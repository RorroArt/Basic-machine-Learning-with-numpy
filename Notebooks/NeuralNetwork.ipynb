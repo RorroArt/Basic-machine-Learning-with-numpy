{
 "cells": [
  {
   "cell_type": "code",
   "execution_count": 3,
   "metadata": {},
   "outputs": [
    {
     "name": "stderr",
     "output_type": "stream",
     "text": [
      "/home/nbuser/anaconda3_501/lib/python3.6/importlib/_bootstrap.py:219: RuntimeWarning: numpy.dtype size changed, may indicate binary incompatibility. Expected 96, got 88\n",
      "  return f(*args, **kwds)\n",
      "/home/nbuser/anaconda3_501/lib/python3.6/importlib/_bootstrap.py:219: RuntimeWarning: numpy.dtype size changed, may indicate binary incompatibility. Expected 96, got 88\n",
      "  return f(*args, **kwds)\n",
      "/home/nbuser/anaconda3_501/lib/python3.6/importlib/_bootstrap.py:219: RuntimeWarning: numpy.dtype size changed, may indicate binary incompatibility. Expected 96, got 88\n",
      "  return f(*args, **kwds)\n",
      "/home/nbuser/anaconda3_501/lib/python3.6/importlib/_bootstrap.py:219: RuntimeWarning: numpy.dtype size changed, may indicate binary incompatibility. Expected 96, got 88\n",
      "  return f(*args, **kwds)\n",
      "/home/nbuser/anaconda3_501/lib/python3.6/importlib/_bootstrap.py:219: RuntimeWarning: numpy.dtype size changed, may indicate binary incompatibility. Expected 96, got 88\n",
      "  return f(*args, **kwds)\n"
     ]
    }
   ],
   "source": [
    "import numpy as np\n",
    "import matplotlib.pyplot as plt\n",
    "from tensorflow.examples.tutorials.mnist import input_data"
   ]
  },
  {
   "cell_type": "code",
   "execution_count": 4,
   "metadata": {},
   "outputs": [
    {
     "name": "stdout",
     "output_type": "stream",
     "text": [
      "Extracting MNIST_data/train-images-idx3-ubyte.gz\n",
      "Extracting MNIST_data/train-labels-idx1-ubyte.gz\n",
      "Extracting MNIST_data/t10k-images-idx3-ubyte.gz\n",
      "Extracting MNIST_data/t10k-labels-idx1-ubyte.gz\n"
     ]
    }
   ],
   "source": [
    "mnist=input_data.read_data_sets(\"MNIST_data/\", one_hot=True)"
   ]
  },
  {
   "cell_type": "code",
   "execution_count": 5,
   "metadata": {},
   "outputs": [],
   "source": [
    "def sigmoid(x, derivate=False):\n",
    "    if derivate == True:\n",
    "        return x * (1 - x)\n",
    "    return 1 / (1 + np.exp(-x))"
   ]
  },
  {
   "cell_type": "code",
   "execution_count": 8,
   "metadata": {},
   "outputs": [],
   "source": [
    "def loss(y,e):\n",
    "    return -np.sum(e*np.log(y)+(1-e)*(np.log(1-y))) / e.shape[0]"
   ]
  },
  {
   "cell_type": "code",
   "execution_count": 35,
   "metadata": {},
   "outputs": [
    {
     "data": {
      "image/png": "[encoded data removed]",
      "text/plain": [
       "<matplotlib.figure.Figure at 0x7f1cad4b3518>"
      ]
     },
     "metadata": {},
     "output_type": "display_data"
    }
   ],
   "source": [
    "fig = plt.gcf()\n",
    "fig.set_size_inches(10,10)\n",
    "w1 = np.random.rand(785,10) * 2 - 1\n",
    "w2 = np.random.rand(11,10) * 2 - 1\n",
    "lr = 0.5\n",
    "lossArr = []\n",
    "epoch = []\n",
    "for i in range(100000):\n",
    "    x, yR = mnist.train.next_batch(100)\n",
    "    #Forward Propagation\n",
    "    a1 = np.append(np.ones((x.shape[0],1)),x,axis=1)\n",
    "    z2 = a1 @ w1\n",
    "    a2 = np.append(np.ones((x.shape[0],1)),sigmoid(z2),axis=1)\n",
    "    z3 = a2 @ w2\n",
    "    a3 = sigmoid(z3)\n",
    "    \n",
    "    #Backpropagation\n",
    "    grad_w2 = (a3 - yR)  * sigmoid(a3,True)#/ yR.shape[0]\n",
    "    grad_w1 = grad_w2 @ w2.T * sigmoid(a2,True)\n",
    "    grad_w1 = grad_w1[:,1:]\n",
    "    w2 -= lr * (a2.T@grad_w2)/ yR.shape[0]\n",
    "    w1 -= lr * (a1.T@grad_w1)/ yR.shape[0]\n",
    "    if i % 100 == 0:\n",
    "        lossArr.append(loss(a3,yR))\n",
    "        epoch.append(i)\n",
    "plt.plot(epoch,lossArr)\n",
    "plt.show()"
   ]
  },
  {
   "cell_type": "code",
   "execution_count": 36,
   "metadata": {},
   "outputs": [],
   "source": [
    "def predict(inp):\n",
    "    if len(inp.shape) == 1:\n",
    "        inp = np.reshape(inp,(1,inp.shape[0]))\n",
    "    a1 = np.append(np.ones((inp.shape[0],1)),inp,axis=1)\n",
    "    z2 = a1 @ w1\n",
    "    a2 = np.append(np.ones((inp.shape[0],1)),sigmoid(z2),axis=1)\n",
    "    z3 = a2 @ w2\n",
    "    a3 = sigmoid(z3)\n",
    "    return np.argmax(a3,1)"
   ]
  },
  {
   "cell_type": "code",
   "execution_count": 37,
   "metadata": {
    "scrolled": false
   },
   "outputs": [
    {
     "name": "stdout",
     "output_type": "stream",
     "text": [
      "---------------\n",
      "Test 0\n",
      "Predict:  7\n",
      "True:     7\n",
      "---------------\n",
      "Test 1\n",
      "Predict:  2\n",
      "True:     2\n",
      "---------------\n",
      "Test 2\n",
      "Predict:  1\n",
      "True:     1\n",
      "---------------\n",
      "Test 3\n",
      "Predict:  0\n",
      "True:     0\n",
      "---------------\n",
      "Test 4\n",
      "Predict:  4\n",
      "True:     4\n",
      "\n",
      "---------------\n",
      "Model Accuracy:\n",
      "92.93 %\n",
      "\n",
      "---------------\n"
     ]
    }
   ],
   "source": [
    "print(\"---------------\")\n",
    "print(\"Test 0\")\n",
    "print(\"Predict: \", predict(mnist.test.images[0])[0])\n",
    "print(\"True:    \", np.argmax(mnist.test.labels[0]))\n",
    "print(\"---------------\")\n",
    "print(\"Test 1\")\n",
    "print(\"Predict: \",predict(mnist.test.images[1])[0])\n",
    "print(\"True:    \",np.argmax(mnist.test.labels[1]))\n",
    "print(\"---------------\")\n",
    "print(\"Test 2\")\n",
    "print(\"Predict: \",predict(mnist.test.images[2])[0])\n",
    "print(\"True:    \",np.argmax(mnist.test.labels[2]))\n",
    "print(\"---------------\")\n",
    "print(\"Test 3\")\n",
    "print(\"Predict: \",predict(mnist.test.images[3])[0])\n",
    "print(\"True:    \",np.argmax(mnist.test.labels[3]))\n",
    "print(\"---------------\")\n",
    "print(\"Test 4\")\n",
    "print(\"Predict: \",predict(mnist.test.images[4])[0])\n",
    "print(\"True:    \",np.argmax(mnist.test.labels[4]))\n",
    "print(\"\")\n",
    "print(\"---------------\")\n",
    "print(\"Model Accuracy:\")\n",
    "print(np.equal(np.argmax(mnist.test.labels,1),predict(mnist.test.images)).astype(int).mean() * 100,\"%\")\n",
    "print(\"\")\n",
    "print(\"---------------\")"
   ]
  },
  {
   "cell_type": "code",
   "execution_count": null,
   "metadata": {},
   "outputs": [],
   "source": []
  }
 ],
 "metadata": {
  "kernelspec": {
   "display_name": "Python 3.6",
   "language": "python",
   "name": "python36"
  },
  "language_info": {
   "codemirror_mode": {
    "name": "ipython",
    "version": 3
   },
   "file_extension": ".py",
   "mimetype": "text/x-python",
   "name": "python",
   "nbconvert_exporter": "python",
   "pygments_lexer": "ipython3",
   "version": "3.6.3"
  }
 },
 "nbformat": 4,
 "nbformat_minor": 2
}
